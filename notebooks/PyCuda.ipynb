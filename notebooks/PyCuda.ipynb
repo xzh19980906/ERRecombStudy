{
 "cells": [
  {
   "cell_type": "code",
   "execution_count": 1,
   "metadata": {},
   "outputs": [],
   "source": [
    "import pycuda.driver as drv\n",
    "import pycuda.autoinit\n",
    "from pycuda.compiler import SourceModule"
   ]
  },
  {
   "cell_type": "code",
   "execution_count": 2,
   "metadata": {},
   "outputs": [],
   "source": [
    "import numpy as np"
   ]
  },
  {
   "cell_type": "code",
   "execution_count": 3,
   "metadata": {},
   "outputs": [],
   "source": [
    "n = 100\n",
    "\n",
    "X = np.random.rand(n)\n",
    "Y = np.random.rand(n)\n",
    "Ed = np.random.rand(n)\n",
    "EventID = np.sort(np.random.randint(0, 3, size=n)) "
   ]
  },
  {
   "cell_type": "code",
   "execution_count": 4,
   "metadata": {},
   "outputs": [],
   "source": [
    "import uproot\n",
    "import utils\n",
    "import glob\n",
    "import numpy as np\n",
    "from tqdm import tqdm\n",
    "import matplotlib.pyplot as plt\n",
    "filenames = glob.glob('../cache/*.root')\n",
    "def decode_energy(fn):\n",
    "    return utils.hex_to_float(fn.split('_')[-1].replace('.root', '').replace('o', '.'))\n",
    "fn = filenames[0]\n",
    "energy = decode_energy(fn)"
   ]
  },
  {
   "cell_type": "code",
   "execution_count": 5,
   "metadata": {},
   "outputs": [],
   "source": [
    "with uproot.open(fn) as file:\n",
    "    rawEventID = file['LXe;1']['Event'].array(library='np')\n",
    "    rawEd = -file['LXe;1']['Ed'].array(library='np')\n",
    "    rawX = file['LXe;1']['X'].array(library='np')\n",
    "    rawY = file['LXe;1']['Y'].array(library='np')\n",
    "    rawZ = file['LXe;1']['Z'].array(library='np')"
   ]
  },
  {
   "cell_type": "code",
   "execution_count": 4,
   "metadata": {},
   "outputs": [
    {
     "ename": "NameError",
     "evalue": "name 'rawEd' is not defined",
     "output_type": "error",
     "traceback": [
      "\u001b[0;31m---------------------------------------------------------------------------\u001b[0m",
      "\u001b[0;31mNameError\u001b[0m                                 Traceback (most recent call last)",
      "\u001b[0;32m<ipython-input-4-d9da6de3afcc>\u001b[0m in \u001b[0;36m<module>\u001b[0;34m\u001b[0m\n\u001b[0;32m----> 1\u001b[0;31m \u001b[0mmask\u001b[0m \u001b[0;34m=\u001b[0m \u001b[0mrawEd\u001b[0m \u001b[0;34m>\u001b[0m \u001b[0;36m0\u001b[0m\u001b[0;34m\u001b[0m\u001b[0;34m\u001b[0m\u001b[0m\n\u001b[0m\u001b[1;32m      2\u001b[0m \u001b[0mmask\u001b[0m \u001b[0;34m&=\u001b[0m \u001b[0;34m(\u001b[0m\u001b[0mrawEventID\u001b[0m \u001b[0;34m>=\u001b[0m \u001b[0;36m0\u001b[0m\u001b[0;34m)\u001b[0m \u001b[0;34m&\u001b[0m \u001b[0;34m(\u001b[0m\u001b[0mrawEventID\u001b[0m \u001b[0;34m<\u001b[0m \u001b[0;36m10\u001b[0m\u001b[0;34m)\u001b[0m\u001b[0;34m\u001b[0m\u001b[0;34m\u001b[0m\u001b[0m\n\u001b[1;32m      3\u001b[0m \u001b[0;34m\u001b[0m\u001b[0m\n\u001b[1;32m      4\u001b[0m \u001b[0mEd\u001b[0m \u001b[0;34m=\u001b[0m \u001b[0mrawEd\u001b[0m\u001b[0;34m[\u001b[0m\u001b[0mmask\u001b[0m\u001b[0;34m]\u001b[0m\u001b[0;34m\u001b[0m\u001b[0;34m\u001b[0m\u001b[0m\n\u001b[1;32m      5\u001b[0m \u001b[0mX\u001b[0m \u001b[0;34m=\u001b[0m \u001b[0mrawX\u001b[0m\u001b[0;34m[\u001b[0m\u001b[0mmask\u001b[0m\u001b[0;34m]\u001b[0m\u001b[0;34m\u001b[0m\u001b[0;34m\u001b[0m\u001b[0m\n",
      "\u001b[0;31mNameError\u001b[0m: name 'rawEd' is not defined"
     ]
    }
   ],
   "source": [
    "mask = rawEd > 0\n",
    "mask &= (rawEventID >= 0) & (rawEventID < 10)\n",
    "\n",
    "Ed = rawEd[mask]\n",
    "X = rawX[mask]\n",
    "Y = rawY[mask]\n",
    "Z = rawZ[mask]\n",
    "EventID = rawEventID[mask]"
   ]
  },
  {
   "cell_type": "code",
   "execution_count": 5,
   "metadata": {},
   "outputs": [],
   "source": [
    "# in\n",
    "num_event = np.asarray(len(np.unique(EventID))).astype(np.int32)\n",
    "\n",
    "# in\n",
    "params = np.asarray([6., 15.0]).astype(np.float32)"
   ]
  },
  {
   "cell_type": "code",
   "execution_count": 6,
   "metadata": {},
   "outputs": [],
   "source": [
    "# in\n",
    "X = np.asarray(X).astype(np.float32)\n",
    "Y = np.asarray(Y).astype(np.float32)\n",
    "Ed = np.asarray(Ed).astype(np.float32)\n",
    "\n",
    "# in\n",
    "event_end = np.argwhere(np.diff(EventID, prepend=-1, append=num_event+1)!=0).ravel()\n",
    "event_end = np.asarray(event_end).astype(np.int32)"
   ]
  },
  {
   "cell_type": "code",
   "execution_count": 7,
   "metadata": {},
   "outputs": [],
   "source": [
    "# placeholders\n",
    "\n",
    "# in\n",
    "X_edge = np.zeros(2 * len(X)).astype(np.float32)\n",
    "Y_edge = np.zeros(2 * len(Y)).astype(np.float32)\n",
    "\n",
    "# in\n",
    "X_edge_ID = np.zeros(2 * len(X)).astype(np.int32)\n",
    "Y_edge_ID = np.zeros(2 * len(Y)).astype(np.int32)\n",
    "\n",
    "# in\n",
    "_, num_hits = np.unique(EventID, return_counts=True)\n",
    "weight = np.zeros(np.sum((2*num_hits-1)**2)).astype(np.float32)\n",
    "\n",
    "# in\n",
    "recomb = np.zeros(num_event).astype(np.float32)\n",
    "\n",
    "# in\n",
    "fcache = np.zeros(2 * len(X)).astype(np.float32)\n",
    "icache = np.zeros(2 * len(X)).astype(np.int32)"
   ]
  },
  {
   "cell_type": "code",
   "execution_count": 8,
   "metadata": {},
   "outputs": [
    {
     "data": {
      "text/plain": [
       "0.054188"
      ]
     },
     "execution_count": 8,
     "metadata": {},
     "output_type": "execute_result"
    }
   ],
   "source": [
    "weight.nbytes/1e6"
   ]
  },
  {
   "cell_type": "code",
   "execution_count": 9,
   "metadata": {},
   "outputs": [],
   "source": [
    "gpu_kernels = open('./CudaKernels.cpp', 'r').read()\n",
    "mod = SourceModule(gpu_kernels)\n",
    "func = mod.get_function('calculate_recomb')"
   ]
  },
  {
   "cell_type": "code",
   "execution_count": 10,
   "metadata": {},
   "outputs": [],
   "source": [
    "func(\n",
    "    drv.In(X),\n",
    "    drv.In(Y),\n",
    "    drv.In(Ed),\n",
    "    drv.In(event_end),\n",
    "    drv.In(num_event),\n",
    "    drv.In(params),\n",
    "    drv.In(X_edge),\n",
    "    drv.In(Y_edge),\n",
    "    drv.In(X_edge_ID),\n",
    "    drv.In(Y_edge_ID),\n",
    "    drv.InOut(weight),\n",
    "    drv.InOut(recomb),\n",
    "    drv.In(fcache),\n",
    "    drv.In(icache),\n",
    "    block=(100,1,1)\n",
    ")"
   ]
  },
  {
   "cell_type": "code",
   "execution_count": 11,
   "metadata": {},
   "outputs": [
    {
     "data": {
      "text/plain": [
       "13547"
      ]
     },
     "execution_count": 11,
     "metadata": {},
     "output_type": "execute_result"
    }
   ],
   "source": [
    "len(weight)"
   ]
  },
  {
   "cell_type": "code",
   "execution_count": 130,
   "metadata": {},
   "outputs": [
    {
     "data": {
      "text/plain": [
       "array([  0,  39,  72, 100], dtype=int32)"
      ]
     },
     "execution_count": 130,
     "metadata": {},
     "output_type": "execute_result"
    }
   ],
   "source": [
    "event_end"
   ]
  },
  {
   "cell_type": "code",
   "execution_count": 131,
   "metadata": {},
   "outputs": [
    {
     "data": {
      "text/plain": [
       "array([19.381504, 15.191582, 10.842622], dtype=float32)"
      ]
     },
     "execution_count": 131,
     "metadata": {},
     "output_type": "execute_result"
    }
   ],
   "source": [
    "recomb"
   ]
  },
  {
   "cell_type": "code",
   "execution_count": 132,
   "metadata": {},
   "outputs": [
    {
     "data": {
      "text/plain": [
       "10.842625"
      ]
     },
     "execution_count": 132,
     "metadata": {},
     "output_type": "execute_result"
    }
   ],
   "source": [
    "np.sum(Ed[72:100])"
   ]
  },
  {
   "cell_type": "code",
   "execution_count": 105,
   "metadata": {},
   "outputs": [
    {
     "data": {
      "text/plain": [
       "5929"
      ]
     },
     "execution_count": 105,
     "metadata": {},
     "output_type": "execute_result"
    }
   ],
   "source": [
    "(2*39-1)**2"
   ]
  },
  {
   "cell_type": "code",
   "execution_count": null,
   "metadata": {},
   "outputs": [],
   "source": []
  },
  {
   "cell_type": "code",
   "execution_count": null,
   "metadata": {},
   "outputs": [],
   "source": []
  },
  {
   "cell_type": "code",
   "execution_count": null,
   "metadata": {},
   "outputs": [],
   "source": []
  },
  {
   "cell_type": "code",
   "execution_count": null,
   "metadata": {},
   "outputs": [],
   "source": []
  },
  {
   "cell_type": "code",
   "execution_count": null,
   "metadata": {},
   "outputs": [],
   "source": []
  },
  {
   "cell_type": "code",
   "execution_count": null,
   "metadata": {},
   "outputs": [],
   "source": []
  },
  {
   "cell_type": "code",
   "execution_count": null,
   "metadata": {},
   "outputs": [],
   "source": []
  },
  {
   "cell_type": "code",
   "execution_count": null,
   "metadata": {},
   "outputs": [],
   "source": []
  },
  {
   "cell_type": "code",
   "execution_count": 69,
   "metadata": {},
   "outputs": [],
   "source": []
  },
  {
   "cell_type": "code",
   "execution_count": 70,
   "metadata": {},
   "outputs": [
    {
     "name": "stderr",
     "output_type": "stream",
     "text": [
      "<ipython-input-70-bbf4e80f48ee>:1: UserWarning: The CUDA compiler succeeded, but said the following:\n",
      "kernel.cu(106): warning: variable \"length\" was declared but never referenced\n",
      "\n",
      "kernel.cu(109): warning: variable \"beta\" was declared but never referenced\n",
      "\n",
      "kernel.cu(106): warning: variable \"length\" was declared but never referenced\n",
      "\n",
      "kernel.cu(109): warning: variable \"beta\" was declared but never referenced\n",
      "\n",
      "\n",
      "  mod = SourceModule(gpu_kernels)\n"
     ]
    }
   ],
   "source": []
  },
  {
   "cell_type": "code",
   "execution_count": 7,
   "metadata": {},
   "outputs": [],
   "source": [
    "func = mod.get_function('test_arg_sort')\n",
    "# func = mod.get_function('test_quick_sort_iarr_by_fkey')"
   ]
  },
  {
   "cell_type": "code",
   "execution_count": 14,
   "metadata": {},
   "outputs": [],
   "source": [
    "_len = 100\n",
    "\n",
    "map = np.zeros(_len).astype(np.int32)\n",
    "arr = np.random.rand(_len).astype(np.float32)\n",
    "length = np.asarray(_len).astype(np.int32)"
   ]
  },
  {
   "cell_type": "code",
   "execution_count": 15,
   "metadata": {},
   "outputs": [
    {
     "data": {
      "text/plain": [
       "array([88, 61, 76, 46, 38, 11, 35, 95,  8, 65, 63, 41, 51, 26, 89, 52, 94,\n",
       "       72, 45, 28, 40, 31, 80, 14, 83, 64, 82, 15, 17, 19,  1, 21, 10, 39,\n",
       "       54, 84,  2, 91,  0, 86, 30, 92, 60, 75, 78, 36,  4,  6, 16, 79, 58,\n",
       "       81, 50, 59,  3,  5, 33, 34, 68, 18, 74, 49, 12, 87, 97, 53, 48, 62,\n",
       "       13, 44, 27, 57, 66, 22, 70, 24, 56, 20, 90, 71, 85, 93, 73, 98,  9,\n",
       "       42, 55, 99, 32, 69, 77, 25, 67, 37,  7, 29, 96, 43, 47, 23])"
      ]
     },
     "execution_count": 15,
     "metadata": {},
     "output_type": "execute_result"
    }
   ],
   "source": [
    "np.argsort(arr)"
   ]
  },
  {
   "cell_type": "code",
   "execution_count": 16,
   "metadata": {},
   "outputs": [
    {
     "data": {
      "text/plain": [
       "True"
      ]
     },
     "execution_count": 16,
     "metadata": {},
     "output_type": "execute_result"
    }
   ],
   "source": [
    "func(\n",
    "    cuda.InOut(arr),\n",
    "    cuda.InOut(map),\n",
    "    cuda.InOut(length),\n",
    "    block=(1,1,1)\n",
    ")\n",
    "np.all(map == np.argsort(arr))"
   ]
  },
  {
   "cell_type": "code",
   "execution_count": null,
   "metadata": {},
   "outputs": [],
   "source": []
  },
  {
   "cell_type": "code",
   "execution_count": null,
   "metadata": {},
   "outputs": [],
   "source": []
  },
  {
   "cell_type": "code",
   "execution_count": null,
   "metadata": {},
   "outputs": [],
   "source": []
  },
  {
   "cell_type": "code",
   "execution_count": null,
   "metadata": {},
   "outputs": [],
   "source": []
  },
  {
   "cell_type": "code",
   "execution_count": null,
   "metadata": {},
   "outputs": [],
   "source": []
  },
  {
   "cell_type": "code",
   "execution_count": null,
   "metadata": {},
   "outputs": [],
   "source": []
  },
  {
   "cell_type": "code",
   "execution_count": null,
   "metadata": {},
   "outputs": [],
   "source": []
  },
  {
   "cell_type": "code",
   "execution_count": null,
   "metadata": {},
   "outputs": [],
   "source": []
  },
  {
   "cell_type": "code",
   "execution_count": null,
   "metadata": {},
   "outputs": [],
   "source": []
  },
  {
   "cell_type": "code",
   "execution_count": null,
   "metadata": {},
   "outputs": [],
   "source": []
  }
 ],
 "metadata": {
  "kernelspec": {
   "display_name": "Python 3",
   "language": "python",
   "name": "python3"
  },
  "language_info": {
   "codemirror_mode": {
    "name": "ipython",
    "version": 3
   },
   "file_extension": ".py",
   "mimetype": "text/x-python",
   "name": "python",
   "nbconvert_exporter": "python",
   "pygments_lexer": "ipython3",
   "version": "3.8.5"
  }
 },
 "nbformat": 4,
 "nbformat_minor": 4
}
