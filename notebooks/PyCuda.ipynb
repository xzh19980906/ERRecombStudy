{
 "cells": [
  {
   "cell_type": "code",
   "execution_count": 1,
   "metadata": {},
   "outputs": [],
   "source": [
    "import numpy as np\n",
    "from time import time\n",
    "\n",
    "import pycuda.driver as drv\n",
    "import pycuda.autoinit\n",
    "from pycuda.compiler import SourceModule"
   ]
  },
  {
   "cell_type": "code",
   "execution_count": 2,
   "metadata": {},
   "outputs": [],
   "source": [
    "import uproot\n",
    "import utils\n",
    "import glob\n",
    "from tqdm import tqdm\n",
    "\n",
    "import matplotlib.pyplot as plt\n",
    "\n",
    "filenames = glob.glob('../cache/*.root')\n",
    "\n",
    "def decode_energy(fn):\n",
    "    return utils.hex_to_float(fn.split('_')[-1].replace('.root', '').replace('o', '.'))\n",
    "\n",
    "\n",
    "fn = filenames[0]\n",
    "energy = decode_energy(fn)\n",
    "\n",
    "with uproot.open(fn) as file:\n",
    "    rawEventID = file['LXe;1']['Event'].array(library='np')\n",
    "    rawEd = -file['LXe;1']['Ed'].array(library='np')\n",
    "    rawX = file['LXe;1']['X'].array(library='np')\n",
    "    rawY = file['LXe;1']['Y'].array(library='np')\n",
    "    rawZ = file['LXe;1']['Z'].array(library='np')"
   ]
  },
  {
   "cell_type": "code",
   "execution_count": 60,
   "metadata": {},
   "outputs": [],
   "source": [
    "num = 100\n",
    "\n",
    "mask = rawEd > 0\n",
    "mask &= (rawEventID >= 0) & (rawEventID < num)\n",
    "\n",
    "Ed = rawEd[mask]\n",
    "X = rawX[mask]\n",
    "Y = rawY[mask]\n",
    "Z = rawZ[mask]\n",
    "EventID = rawEventID[mask]"
   ]
  },
  {
   "cell_type": "code",
   "execution_count": 61,
   "metadata": {},
   "outputs": [],
   "source": [
    "gpu_kernels = open('./CudaKernels.cpp', 'r').read()\n",
    "mod = SourceModule(gpu_kernels)\n",
    "func = mod.get_function('calculate_recomb')"
   ]
  },
  {
   "cell_type": "code",
   "execution_count": 62,
   "metadata": {},
   "outputs": [],
   "source": [
    "def make_gpu_args(X, Y, Ed, EventID, params):\n",
    "    # in\n",
    "    num_event = np.asarray(len(np.unique(EventID))).astype(np.int32)\n",
    "    print(\"num_event \\t= %i\" % num_event[()])\n",
    "    \n",
    "    # in\n",
    "    params = np.asarray(params).astype(np.float32)\n",
    "    \n",
    "    # in\n",
    "    X = np.asarray(X).astype(np.float32)\n",
    "    Y = np.asarray(Y).astype(np.float32)\n",
    "    Ed = np.asarray(Ed).astype(np.float32)\n",
    "\n",
    "    # in\n",
    "    event_end = np.argwhere(np.diff(EventID, prepend=-1, append=num_event+1)!=0).ravel()\n",
    "    event_end = np.asarray(event_end).astype(np.int32)\n",
    "    \n",
    "    # placeholders\n",
    "    # in\n",
    "    X_edge = np.zeros(2 * len(X)).astype(np.float32)\n",
    "    Y_edge = np.zeros(2 * len(Y)).astype(np.float32)\n",
    "\n",
    "    # in\n",
    "    X_edge_ID = np.zeros(2 * len(X)).astype(np.int32)\n",
    "    Y_edge_ID = np.zeros(2 * len(Y)).astype(np.int32)\n",
    "\n",
    "    # in\n",
    "    _, num_hits = np.unique(EventID, return_counts=True)\n",
    "    weight = np.zeros(np.sum((2*num_hits-1)**2)).astype(np.float32)\n",
    "\n",
    "    # in\n",
    "    recomb = np.zeros(num_event).astype(np.float32)\n",
    "\n",
    "    # in\n",
    "    fcache = np.zeros(4 * len(X)).astype(np.float32)\n",
    "    icache = np.zeros(4 * len(X)).astype(np.int32)\n",
    "    \n",
    "    mem_bytes = np.sum([arr.nbytes for arr in [num_event, params, X, Y, Ed, event_end, X_edge, Y_edge, X_edge_ID, Y_edge_ID, weight, recomb, fcache, icache]])\n",
    "    print(\"Memory used \\t= %i MB\" % (mem_bytes/1e6))\n",
    "    \n",
    "    gpu_args = [\n",
    "        drv.In(X),\n",
    "        drv.In(Y),\n",
    "        drv.In(Ed),\n",
    "        drv.In(event_end),\n",
    "        drv.In(num_event),\n",
    "        drv.In(params),\n",
    "        drv.In(X_edge),\n",
    "        drv.In(Y_edge),\n",
    "        drv.In(X_edge_ID),\n",
    "        drv.In(Y_edge_ID),\n",
    "        drv.In(weight),\n",
    "        drv.In(fcache),\n",
    "        drv.In(icache),\n",
    "        drv.InOut(recomb)\n",
    "    ]\n",
    "    \n",
    "    other_kwargs = {\n",
    "        \"num_event\" : int(num_event[()]),\n",
    "        \"params\" : params,\n",
    "        \"recomb_alloc\" : gpu_args[-1],\n",
    "        \"auto_block\" : (int(num_event[()]), 1, 1)\n",
    "    }\n",
    "    \n",
    "    return gpu_args, other_kwargs"
   ]
  },
  {
   "cell_type": "code",
   "execution_count": 63,
   "metadata": {},
   "outputs": [],
   "source": [
    "def free_gpu_args(args):\n",
    "    if args == []:\n",
    "        return\n",
    "    for gpu_arr in args:\n",
    "        alloc = gpu_arr.get_device_alloc()\n",
    "        alloc.free()"
   ]
  },
  {
   "cell_type": "code",
   "execution_count": 64,
   "metadata": {},
   "outputs": [],
   "source": [
    "n_alpha = 2\n",
    "n_beta = 2\n",
    "alpha = np.linspace(0, 10.0, n_alpha + 1)[1:]\n",
    "beta = np.linspace(0, 30.0, n_beta + 1)[1:]"
   ]
  },
  {
   "cell_type": "code",
   "execution_count": 65,
   "metadata": {},
   "outputs": [
    {
     "name": "stdout",
     "output_type": "stream",
     "text": [
      "num_event \t= 100\n",
      "Memory used \t= 150 MB\n"
     ]
    }
   ],
   "source": [
    "gpu_args, kwargs = make_gpu_args(X, Y, Ed, EventID, [6.0, 15.0])"
   ]
  },
  {
   "cell_type": "code",
   "execution_count": 68,
   "metadata": {},
   "outputs": [
    {
     "name": "stderr",
     "output_type": "stream",
     "text": [
      "\r",
      "  0%|          | 0/2 [00:00<?, ?it/s]"
     ]
    },
    {
     "name": "stdout",
     "output_type": "stream",
     "text": [
      "0 0 5.0 15.0\n",
      "0 1 5.0 30.0\n"
     ]
    },
    {
     "name": "stderr",
     "output_type": "stream",
     "text": [
      "\r",
      " 50%|█████     | 1/2 [00:49<00:49, 49.20s/it]"
     ]
    },
    {
     "name": "stdout",
     "output_type": "stream",
     "text": [
      "1 0 10.0 15.0\n",
      "1 1 10.0 30.0\n"
     ]
    },
    {
     "name": "stderr",
     "output_type": "stream",
     "text": [
      "100%|██████████| 2/2 [01:38<00:00, 49.20s/it]\n"
     ]
    }
   ],
   "source": [
    "cache = np.zeros(n_alpha * n_beta, dtype=[\n",
    "    ('alpha', float),\n",
    "    ('beta', float),\n",
    "    ('recomb', (float, (num,)))\n",
    "])\n",
    "\n",
    "for i in tqdm(range(n_alpha)):\n",
    "    for j in range(n_beta):\n",
    "        print(i, j, alpha[i], beta[j])\n",
    "        \n",
    "        gpu_args[5].get_device_alloc().free()\n",
    "        gpu_args[5] = drv.In(\n",
    "            np.asarray([alpha[i], beta[j]]).astype(np.float32)\n",
    "        )\n",
    "        func(*gpu_args, block=kwargs['auto_block'])\n",
    "        \n",
    "        cache[i * n_beta + j]['alpha'] = alpha[i]\n",
    "        cache[i * n_beta + j]['beta'] = beta[i]\n",
    "        cache[i * n_beta + j]['recomb'] = kwargs['recomb_alloc'].array"
   ]
  },
  {
   "cell_type": "code",
   "execution_count": 90,
   "metadata": {},
   "outputs": [],
   "source": [
    "free_gpu_args(gpu_args)"
   ]
  },
  {
   "cell_type": "code",
   "execution_count": 88,
   "metadata": {},
   "outputs": [],
   "source": [
    "np.save(open(fn.replace('.root', '.pkl'), 'bw'), cache, allow_pickle=True)"
   ]
  },
  {
   "cell_type": "code",
   "execution_count": 94,
   "metadata": {},
   "outputs": [
    {
     "data": {
      "text/plain": [
       "array([( 5., 15., [0.49893516, 0.50303888, 0.48954493, 0.50155032, 0.4992218 , 0.50033379, 0.50465602, 0.49066854, 0.50442338, 0.49899268]),\n",
       "       ( 5., 15., [0.63957357, 0.64390355, 0.63061321, 0.64219546, 0.64024699, 0.64109778, 0.64541125, 0.631576  , 0.64538556, 0.63999546]),\n",
       "       (10., 30., [0.23102111, 0.23200673, 0.22788173, 0.23181748, 0.23096442, 0.23132306, 0.23260421, 0.22823209, 0.23251122, 0.23082268]),\n",
       "       (10., 30., [0.36029828, 0.36181772, 0.35608977, 0.36140829, 0.36028826, 0.36078846, 0.36257553, 0.3565889 , 0.36245781, 0.36014146])],\n",
       "      dtype=[('alpha', '<f8'), ('beta', '<f8'), ('recomb', '<f8', (10,))])"
      ]
     },
     "execution_count": 94,
     "metadata": {},
     "output_type": "execute_result"
    }
   ],
   "source": [
    "np.load(filenames[1].replace('.root', '.pkl'), allow_pickle=True)"
   ]
  },
  {
   "cell_type": "code",
   "execution_count": null,
   "metadata": {},
   "outputs": [],
   "source": []
  },
  {
   "cell_type": "code",
   "execution_count": null,
   "metadata": {},
   "outputs": [],
   "source": []
  },
  {
   "cell_type": "code",
   "execution_count": null,
   "metadata": {},
   "outputs": [],
   "source": []
  },
  {
   "cell_type": "code",
   "execution_count": null,
   "metadata": {},
   "outputs": [],
   "source": []
  }
 ],
 "metadata": {
  "kernelspec": {
   "display_name": "Python 3",
   "language": "python",
   "name": "python3"
  },
  "language_info": {
   "codemirror_mode": {
    "name": "ipython",
    "version": 3
   },
   "file_extension": ".py",
   "mimetype": "text/x-python",
   "name": "python",
   "nbconvert_exporter": "python",
   "pygments_lexer": "ipython3",
   "version": "3.8.5"
  }
 },
 "nbformat": 4,
 "nbformat_minor": 4
}
